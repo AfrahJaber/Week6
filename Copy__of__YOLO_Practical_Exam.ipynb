{
  "cells": [
    {
      "cell_type": "markdown",
      "metadata": {
        "id": "view-in-github",
        "colab_type": "text"
      },
      "source": [
        "<a href=\"https://colab.research.google.com/github/AfrahJaber/Week6/blob/main/Copy__of__YOLO_Practical_Exam.ipynb\" target=\"_parent\"><img src=\"https://colab.research.google.com/assets/colab-badge.svg\" alt=\"Open In Colab\"/></a>"
      ]
    },
    {
      "cell_type": "markdown",
      "id": "fd8284c7",
      "metadata": {
        "id": "fd8284c7"
      },
      "source": [
        "# Road Traffic Vehicle Counting Exam"
      ]
    },
    {
      "cell_type": "markdown",
      "id": "90e8c1a5",
      "metadata": {
        "id": "90e8c1a5"
      },
      "source": [
        "In this exam, you will use the YOLO (You Only Look Once) object detection model to analyze a video of road traffic. Your primary task is to count the number of vehicles exiting the road at each of the four exits (located at the top, bottom, left, and right of the frame). The video for this task is provided at `Datasets/YOLO_Exam_Video.mp4`.\n",
        "\n",
        "## Objectives\n",
        "- Load and process the video using OpenCV.\n",
        "- Utilize the YOLO model to detect vehicles in each frame.\n",
        "- Manipulate the video frames using OpenCV.\n",
        "- Track vehicles as they move across the video frames.\n",
        "- Count the number of vehicles exiting via the top street.\n",
        "- Count the number of vehicles exiting via the bottom street.\n",
        "- Count the number of vehicles exiting via the left street.\n",
        "- Count the number of vehicles exiting via the right street.\n"
      ]
    },
    {
      "cell_type": "markdown",
      "id": "c7269b0e",
      "metadata": {
        "id": "c7269b0e"
      },
      "source": [
        "## Setup Environment"
      ]
    },
    {
      "cell_type": "markdown",
      "id": "2fd3bce8",
      "metadata": {
        "id": "2fd3bce8"
      },
      "source": [
        "Before you begin, ensure you have the necessary libraries installed. You will need `opencv`, and `ultralytics` among others.\n",
        "If these are not installed, you should install them."
      ]
    },
    {
      "cell_type": "code",
      "execution_count": null,
      "id": "e48a05c4",
      "metadata": {
        "vscode": {
          "languageId": "plaintext"
        },
        "id": "e48a05c4",
        "colab": {
          "base_uri": "https://localhost:8080/"
        },
        "outputId": "366d1687-d209-4f32-dbde-dabfdbbb6829"
      },
      "outputs": [
        {
          "output_type": "stream",
          "name": "stdout",
          "text": [
            "Requirement already satisfied: opencv-python in /usr/local/lib/python3.10/dist-packages (4.10.0.84)\n",
            "Requirement already satisfied: numpy>=1.21.2 in /usr/local/lib/python3.10/dist-packages (from opencv-python) (1.26.4)\n"
          ]
        }
      ],
      "source": [
        "# prompt: library opencv\n",
        "\n",
        "!pip install opencv-python\n"
      ]
    },
    {
      "cell_type": "code",
      "source": [
        "!pip install ultralytics\n",
        "!pip install opencv-p"
      ],
      "metadata": {
        "id": "L7_PNW1CL86m",
        "colab": {
          "base_uri": "https://localhost:8080/"
        },
        "outputId": "b849d9e6-d04d-46ee-ae9e-a9dca1333833"
      },
      "id": "L7_PNW1CL86m",
      "execution_count": null,
      "outputs": [
        {
          "output_type": "stream",
          "name": "stdout",
          "text": [
            "Collecting ultralytics\n",
            "  Downloading ultralytics-8.2.85-py3-none-any.whl.metadata (41 kB)\n",
            "\u001b[?25l     \u001b[90m━━━━━━━━━━━━━━━━━━━━━━━━━━━━━━━━━━━━━━━━\u001b[0m \u001b[32m0.0/41.8 kB\u001b[0m \u001b[31m?\u001b[0m eta \u001b[36m-:--:--\u001b[0m\r\u001b[2K     \u001b[90m━━━━━━━━━━━━━━━━━━━━━━━━━━━━━━━━━━━━━━━━\u001b[0m \u001b[32m41.8/41.8 kB\u001b[0m \u001b[31m1.8 MB/s\u001b[0m eta \u001b[36m0:00:00\u001b[0m\n",
            "\u001b[?25hRequirement already satisfied: numpy<2.0.0,>=1.23.0 in /usr/local/lib/python3.10/dist-packages (from ultralytics) (1.26.4)\n",
            "Requirement already satisfied: matplotlib>=3.3.0 in /usr/local/lib/python3.10/dist-packages (from ultralytics) (3.7.1)\n",
            "Requirement already satisfied: opencv-python>=4.6.0 in /usr/local/lib/python3.10/dist-packages (from ultralytics) (4.10.0.84)\n",
            "Requirement already satisfied: pillow>=7.1.2 in /usr/local/lib/python3.10/dist-packages (from ultralytics) (9.4.0)\n",
            "Requirement already satisfied: pyyaml>=5.3.1 in /usr/local/lib/python3.10/dist-packages (from ultralytics) (6.0.2)\n",
            "Requirement already satisfied: requests>=2.23.0 in /usr/local/lib/python3.10/dist-packages (from ultralytics) (2.32.3)\n",
            "Requirement already satisfied: scipy>=1.4.1 in /usr/local/lib/python3.10/dist-packages (from ultralytics) (1.13.1)\n",
            "Requirement already satisfied: torch>=1.8.0 in /usr/local/lib/python3.10/dist-packages (from ultralytics) (2.4.0+cu121)\n",
            "Requirement already satisfied: torchvision>=0.9.0 in /usr/local/lib/python3.10/dist-packages (from ultralytics) (0.19.0+cu121)\n",
            "Requirement already satisfied: tqdm>=4.64.0 in /usr/local/lib/python3.10/dist-packages (from ultralytics) (4.66.5)\n",
            "Requirement already satisfied: psutil in /usr/local/lib/python3.10/dist-packages (from ultralytics) (5.9.5)\n",
            "Requirement already satisfied: py-cpuinfo in /usr/local/lib/python3.10/dist-packages (from ultralytics) (9.0.0)\n",
            "Requirement already satisfied: pandas>=1.1.4 in /usr/local/lib/python3.10/dist-packages (from ultralytics) (2.1.4)\n",
            "Requirement already satisfied: seaborn>=0.11.0 in /usr/local/lib/python3.10/dist-packages (from ultralytics) (0.13.1)\n",
            "Collecting ultralytics-thop>=2.0.0 (from ultralytics)\n",
            "  Downloading ultralytics_thop-2.0.6-py3-none-any.whl.metadata (9.1 kB)\n",
            "Requirement already satisfied: contourpy>=1.0.1 in /usr/local/lib/python3.10/dist-packages (from matplotlib>=3.3.0->ultralytics) (1.2.1)\n",
            "Requirement already satisfied: cycler>=0.10 in /usr/local/lib/python3.10/dist-packages (from matplotlib>=3.3.0->ultralytics) (0.12.1)\n",
            "Requirement already satisfied: fonttools>=4.22.0 in /usr/local/lib/python3.10/dist-packages (from matplotlib>=3.3.0->ultralytics) (4.53.1)\n",
            "Requirement already satisfied: kiwisolver>=1.0.1 in /usr/local/lib/python3.10/dist-packages (from matplotlib>=3.3.0->ultralytics) (1.4.5)\n",
            "Requirement already satisfied: packaging>=20.0 in /usr/local/lib/python3.10/dist-packages (from matplotlib>=3.3.0->ultralytics) (24.1)\n",
            "Requirement already satisfied: pyparsing>=2.3.1 in /usr/local/lib/python3.10/dist-packages (from matplotlib>=3.3.0->ultralytics) (3.1.4)\n",
            "Requirement already satisfied: python-dateutil>=2.7 in /usr/local/lib/python3.10/dist-packages (from matplotlib>=3.3.0->ultralytics) (2.8.2)\n",
            "Requirement already satisfied: pytz>=2020.1 in /usr/local/lib/python3.10/dist-packages (from pandas>=1.1.4->ultralytics) (2024.1)\n",
            "Requirement already satisfied: tzdata>=2022.1 in /usr/local/lib/python3.10/dist-packages (from pandas>=1.1.4->ultralytics) (2024.1)\n",
            "Requirement already satisfied: charset-normalizer<4,>=2 in /usr/local/lib/python3.10/dist-packages (from requests>=2.23.0->ultralytics) (3.3.2)\n",
            "Requirement already satisfied: idna<4,>=2.5 in /usr/local/lib/python3.10/dist-packages (from requests>=2.23.0->ultralytics) (3.8)\n",
            "Requirement already satisfied: urllib3<3,>=1.21.1 in /usr/local/lib/python3.10/dist-packages (from requests>=2.23.0->ultralytics) (2.0.7)\n",
            "Requirement already satisfied: certifi>=2017.4.17 in /usr/local/lib/python3.10/dist-packages (from requests>=2.23.0->ultralytics) (2024.7.4)\n",
            "Requirement already satisfied: filelock in /usr/local/lib/python3.10/dist-packages (from torch>=1.8.0->ultralytics) (3.15.4)\n",
            "Requirement already satisfied: typing-extensions>=4.8.0 in /usr/local/lib/python3.10/dist-packages (from torch>=1.8.0->ultralytics) (4.12.2)\n",
            "Requirement already satisfied: sympy in /usr/local/lib/python3.10/dist-packages (from torch>=1.8.0->ultralytics) (1.13.2)\n",
            "Requirement already satisfied: networkx in /usr/local/lib/python3.10/dist-packages (from torch>=1.8.0->ultralytics) (3.3)\n",
            "Requirement already satisfied: jinja2 in /usr/local/lib/python3.10/dist-packages (from torch>=1.8.0->ultralytics) (3.1.4)\n",
            "Requirement already satisfied: fsspec in /usr/local/lib/python3.10/dist-packages (from torch>=1.8.0->ultralytics) (2024.6.1)\n",
            "Requirement already satisfied: six>=1.5 in /usr/local/lib/python3.10/dist-packages (from python-dateutil>=2.7->matplotlib>=3.3.0->ultralytics) (1.16.0)\n",
            "Requirement already satisfied: MarkupSafe>=2.0 in /usr/local/lib/python3.10/dist-packages (from jinja2->torch>=1.8.0->ultralytics) (2.1.5)\n",
            "Requirement already satisfied: mpmath<1.4,>=1.1.0 in /usr/local/lib/python3.10/dist-packages (from sympy->torch>=1.8.0->ultralytics) (1.3.0)\n",
            "Downloading ultralytics-8.2.85-py3-none-any.whl (872 kB)\n",
            "\u001b[2K   \u001b[90m━━━━━━━━━━━━━━━━━━━━━━━━━━━━━━━━━━━━━━━━\u001b[0m \u001b[32m872.3/872.3 kB\u001b[0m \u001b[31m10.9 MB/s\u001b[0m eta \u001b[36m0:00:00\u001b[0m\n",
            "\u001b[?25hDownloading ultralytics_thop-2.0.6-py3-none-any.whl (26 kB)\n",
            "Installing collected packages: ultralytics-thop, ultralytics\n",
            "Successfully installed ultralytics-8.2.85 ultralytics-thop-2.0.6\n",
            "\u001b[31mERROR: Could not find a version that satisfies the requirement opencv-p (from versions: none)\u001b[0m\u001b[31m\n",
            "\u001b[0m\u001b[31mERROR: No matching distribution found for opencv-p\u001b[0m\u001b[31m\n",
            "\u001b[0m"
          ]
        }
      ]
    },
    {
      "cell_type": "code",
      "source": [
        "import cv2\n",
        "from ultralytics import YOLO, solutions"
      ],
      "metadata": {
        "id": "0VhgfU0KN-Av"
      },
      "id": "0VhgfU0KN-Av",
      "execution_count": null,
      "outputs": []
    },
    {
      "cell_type": "markdown",
      "id": "a69c2ac2",
      "metadata": {
        "id": "a69c2ac2"
      },
      "source": [
        "## Load the YOLO Model"
      ]
    },
    {
      "cell_type": "markdown",
      "id": "145d70fc",
      "metadata": {
        "id": "145d70fc"
      },
      "source": [
        "You will first need to load the YOLO model, there is a custom model for this exam called `YOLO_Model.pt` under Datasets file ⚠️ PLEASE USE THIS MODEL AND DO NOT USE ANY OTHER MODEL ⚠️.\n",
        "Write the code to load the YOLO model below:"
      ]
    },
    {
      "cell_type": "code",
      "execution_count": null,
      "id": "7e580e4a",
      "metadata": {
        "vscode": {
          "languageId": "plaintext"
        },
        "id": "7e580e4a"
      },
      "outputs": [],
      "source": [
        "model = YOLO('YOLO_Model.pt')"
      ]
    },
    {
      "cell_type": "markdown",
      "id": "cf691ac8",
      "metadata": {
        "id": "cf691ac8"
      },
      "source": [
        "## Prepare the Video Capture"
      ]
    },
    {
      "cell_type": "markdown",
      "metadata": {
        "id": "Nw9RSvKCdonK"
      },
      "source": [
        "Create a variable to capture the video frames, you can use `cv2.VideoCapture()` to achive this."
      ],
      "id": "Nw9RSvKCdonK"
    },
    {
      "cell_type": "code",
      "execution_count": null,
      "id": "81cfbca1",
      "metadata": {
        "vscode": {
          "languageId": "plaintext"
        },
        "id": "81cfbca1"
      },
      "outputs": [],
      "source": [
        "cap = cv2.VideoCapture('/content/YOLO_Video.mp4')\n",
        "assert cap.isOpened(), 'Error reading video file'"
      ]
    },
    {
      "cell_type": "markdown",
      "id": "48757309",
      "metadata": {
        "id": "48757309"
      },
      "source": [
        "## Get Video Information"
      ]
    },
    {
      "cell_type": "markdown",
      "id": "b4f5d5bc",
      "metadata": {
        "id": "b4f5d5bc"
      },
      "source": [
        "You can use `cv2` library to get these information fro the `VideoCapture()` variable you created to extract these information:\n",
        "* `height`: Video's height.\n",
        "* `width`: Video's width.\n",
        "* `fps`: Video's frames."
      ]
    },
    {
      "cell_type": "code",
      "execution_count": null,
      "id": "cb8e5ceb",
      "metadata": {
        "vscode": {
          "languageId": "plaintext"
        },
        "id": "cb8e5ceb"
      },
      "outputs": [],
      "source": [
        "# Get video properties\n",
        "w, h, fps = (int(cap.get(x)) for x in (cv2.CAP_PROP_FRAME_WIDTH, cv2.CAP_PROP_FRAME_HEIGHT, cv2.CAP_PROP_FPS))"
      ]
    },
    {
      "cell_type": "markdown",
      "id": "3f241495",
      "metadata": {
        "id": "3f241495"
      },
      "source": [
        "## Prepare Video Writer to Store the Output"
      ]
    },
    {
      "cell_type": "markdown",
      "id": "9ef61a34",
      "metadata": {
        "id": "9ef61a34"
      },
      "source": [
        "Create a variable that uses `cv2.VideoCapture()` to save the video with the bounding boxes, specified Region of Interest rectangle (ROI) and the counted vehicles on each sides. You will need to make the video with the same `fps`, `width`, `height`, and specify the codec and output path of the video."
      ]
    },
    {
      "cell_type": "code",
      "execution_count": null,
      "id": "449562c2",
      "metadata": {
        "vscode": {
          "languageId": "plaintext"
        },
        "id": "449562c2"
      },
      "outputs": [],
      "source": [
        "video_writer = cv2.VideoWriter('object_counting_output.mp4', cv2.VideoWriter_fourcc(*'mp4v'), fps, (w, h))"
      ]
    },
    {
      "cell_type": "markdown",
      "id": "31e882a2",
      "metadata": {
        "id": "31e882a2"
      },
      "source": [
        "## Expermint to get the `(x1, y1, x2, y2)` of the ROI"
      ]
    },
    {
      "cell_type": "markdown",
      "id": "3b6e6d97",
      "metadata": {
        "id": "3b6e6d97"
      },
      "source": [
        "### Hint\n",
        "When defining the Regions of Interest (ROIs) for detecting vehicles exiting the road, consider the coordinates that outline the relevant areas. These coordinates can be specified as `(x1, y1, x2, y2)`, where `(x1, y1)` is the top-left corner and `(x2, y2)` is the bottom-right corner of the rectangle.\n",
        "\n",
        "Experiment with different coordinates to accurately cover the streets where vehicles exit. Visualize these ROIs by drawing rectangles on a frame of the video and adjust the coordinates as needed until you capture the desired areas effectively."
      ]
    },
    {
      "cell_type": "code",
      "execution_count": null,
      "id": "68f46e81",
      "metadata": {
        "vscode": {
          "languageId": "plaintext"
        },
        "id": "68f46e81"
      },
      "outputs": [],
      "source": [
        "width = w\n",
        "height = h\n",
        "\n",
        "top_roi = (0, 0, width, height // 4)\n",
        "bottom_roi = (0, 3 * height // 4, width, height)\n",
        "left_roi = (0, 0, width // 4, height)\n",
        "right_roi = (3 * width // 4, 0, width, height)"
      ]
    },
    {
      "cell_type": "markdown",
      "id": "067dbc12",
      "metadata": {
        "id": "067dbc12"
      },
      "source": [
        "## Process Video Frames and Identify Vehicles Left the Road Form Each Street"
      ]
    },
    {
      "cell_type": "markdown",
      "id": "aa695d88",
      "metadata": {
        "id": "aa695d88"
      },
      "source": [
        "For each frame in the video, use the YOLO model to detect and track vehicles. You will need to write a loop that processes each frame and applies the YOLO model.\n",
        "\n",
        "In each frame, after detecting the vehicles, determine whether they exited the road via the top, bottom, left, or right street. You can use the positions of the bounding boxes provided by YOLO to do this.\n",
        "\n",
        "- The video should display bounding boxes around the detected objects.\n",
        "- The video should display your name on the top.\n",
        "- It should display the calculated center of each vehicle.\n",
        "- The video should display the confidence score, alongside the object ID and class ID of each detected and tracked object.\n",
        "- The video should display the rectangles representing the regions where you count the vehicles that have crossed and exited.\n",
        "- The video should display the number of vehicles that exited via the top street.\n",
        "- The video should display the number of vehicles that exited via the bottom street.\n",
        "- The video should display the number of vehicles that exited via the left street.\n",
        "- The video should display the number of vehicles that exited via the right street."
      ]
    },
    {
      "cell_type": "code",
      "source": [
        "mid_y = h // 2\n",
        "line_points = [(20, mid_y), (w - 20, mid_y)]\n",
        "\n",
        "counter = solutions.ObjectCounter(\n",
        "    view_img=True,\n",
        "    reg_pts=line_points,\n",
        "    names=model.names,\n",
        "    draw_tracks=True,\n",
        "    line_thickness=2,\n",
        ")\n",
        "\n",
        "\n",
        "while cap.isOpened():\n",
        "    success, im0 = cap.read()\n",
        "    if not success:\n",
        "        print('Video frame is empty or video processing has been successfully completed.')\n",
        "        break\n",
        "\n",
        "    # Perform object tracking\n",
        "    tracks = model.track(im0, persist=True, show=False)\n",
        "    cv2.putText(im0, \"AFRAH\", (10, 20), cv2.FONT_HERSHEY_SIMPLEX, 1, (255, 255, 255), 2) # Use im0 instead of frame\n",
        "\n",
        "    # Count objects and draw the middle line\n",
        "    im0 = counter.start_counting(im0, tracks)\n",
        "    video_writer.write(im0)"
      ],
      "metadata": {
        "colab": {
          "base_uri": "https://localhost:8080/"
        },
        "id": "r85bgMm6QtYp",
        "outputId": "f48e23de-c463-4713-b38c-d2118b444f8d"
      },
      "id": "r85bgMm6QtYp",
      "execution_count": null,
      "outputs": [
        {
          "output_type": "stream",
          "name": "stdout",
          "text": [
            "WARNING ⚠️ Environment does not support cv2.imshow() or PIL Image.show()\n",
            "\n",
            "Line Counter Initiated.\n",
            "\n",
            "0: 384x640 3 buss, 92 cars, 2 trucks, 2385.3ms\n",
            "Speed: 4.8ms preprocess, 2385.3ms inference, 1.1ms postprocess per image at shape (1, 3, 384, 640)\n",
            "\n",
            "0: 384x640 3 buss, 92 cars, 2 trucks, 3161.3ms\n",
            "Speed: 3.7ms preprocess, 3161.3ms inference, 1.5ms postprocess per image at shape (1, 3, 384, 640)\n",
            "\n",
            "0: 384x640 3 buss, 91 cars, 2 trucks, 1 van, 2619.4ms\n",
            "Speed: 3.7ms preprocess, 2619.4ms inference, 1.2ms postprocess per image at shape (1, 3, 384, 640)\n",
            "\n",
            "0: 384x640 3 buss, 92 cars, 2 trucks, 2346.3ms\n",
            "Speed: 3.8ms preprocess, 2346.3ms inference, 1.1ms postprocess per image at shape (1, 3, 384, 640)\n",
            "\n",
            "0: 384x640 3 buss, 92 cars, 2 trucks, 2364.3ms\n",
            "Speed: 3.5ms preprocess, 2364.3ms inference, 1.0ms postprocess per image at shape (1, 3, 384, 640)\n",
            "\n",
            "0: 384x640 3 buss, 92 cars, 2 trucks, 2343.9ms\n",
            "Speed: 3.5ms preprocess, 2343.9ms inference, 1.1ms postprocess per image at shape (1, 3, 384, 640)\n",
            "\n",
            "0: 384x640 3 buss, 91 cars, 2 trucks, 3498.6ms\n",
            "Speed: 3.4ms preprocess, 3498.6ms inference, 1.9ms postprocess per image at shape (1, 3, 384, 640)\n",
            "\n",
            "0: 384x640 3 buss, 91 cars, 2 trucks, 2323.6ms\n",
            "Speed: 3.9ms preprocess, 2323.6ms inference, 1.3ms postprocess per image at shape (1, 3, 384, 640)\n",
            "\n",
            "0: 384x640 3 buss, 90 cars, 2 trucks, 1 van, 2377.5ms\n",
            "Speed: 3.7ms preprocess, 2377.5ms inference, 1.3ms postprocess per image at shape (1, 3, 384, 640)\n",
            "\n",
            "0: 384x640 3 buss, 90 cars, 2 trucks, 1 van, 2336.6ms\n",
            "Speed: 4.0ms preprocess, 2336.6ms inference, 1.0ms postprocess per image at shape (1, 3, 384, 640)\n",
            "\n",
            "0: 384x640 3 buss, 90 cars, 2 trucks, 1 van, 2351.3ms\n",
            "Speed: 3.5ms preprocess, 2351.3ms inference, 1.2ms postprocess per image at shape (1, 3, 384, 640)\n",
            "\n",
            "0: 384x640 3 buss, 91 cars, 2 trucks, 3513.9ms\n",
            "Speed: 4.2ms preprocess, 3513.9ms inference, 1.0ms postprocess per image at shape (1, 3, 384, 640)\n",
            "\n",
            "0: 384x640 3 buss, 91 cars, 2 trucks, 2329.7ms\n",
            "Speed: 2.8ms preprocess, 2329.7ms inference, 1.0ms postprocess per image at shape (1, 3, 384, 640)\n",
            "\n",
            "0: 384x640 3 buss, 90 cars, 2 trucks, 1 van, 2344.9ms\n",
            "Speed: 3.9ms preprocess, 2344.9ms inference, 1.0ms postprocess per image at shape (1, 3, 384, 640)\n",
            "\n",
            "0: 384x640 3 buss, 91 cars, 2 trucks, 1 van, 2340.0ms\n",
            "Speed: 3.5ms preprocess, 2340.0ms inference, 1.0ms postprocess per image at shape (1, 3, 384, 640)\n",
            "\n",
            "0: 384x640 3 buss, 92 cars, 2 trucks, 2434.6ms\n",
            "Speed: 3.4ms preprocess, 2434.6ms inference, 1.6ms postprocess per image at shape (1, 3, 384, 640)\n",
            "\n",
            "0: 384x640 3 buss, 92 cars, 2 trucks, 3347.1ms\n",
            "Speed: 3.8ms preprocess, 3347.1ms inference, 1.0ms postprocess per image at shape (1, 3, 384, 640)\n",
            "\n",
            "0: 384x640 3 buss, 92 cars, 2 trucks, 2352.5ms\n",
            "Speed: 4.2ms preprocess, 2352.5ms inference, 1.2ms postprocess per image at shape (1, 3, 384, 640)\n",
            "\n",
            "0: 384x640 3 buss, 92 cars, 2 trucks, 2319.7ms\n",
            "Speed: 3.4ms preprocess, 2319.7ms inference, 1.0ms postprocess per image at shape (1, 3, 384, 640)\n",
            "\n",
            "0: 384x640 3 buss, 91 cars, 2 trucks, 1 van, 2319.8ms\n",
            "Speed: 2.8ms preprocess, 2319.8ms inference, 1.0ms postprocess per image at shape (1, 3, 384, 640)\n",
            "\n",
            "0: 384x640 4 buss, 90 cars, 2 trucks, 2698.9ms\n",
            "Speed: 3.4ms preprocess, 2698.9ms inference, 1.7ms postprocess per image at shape (1, 3, 384, 640)\n",
            "\n",
            "0: 384x640 4 buss, 89 cars, 2 trucks, 3099.2ms\n",
            "Speed: 5.4ms preprocess, 3099.2ms inference, 1.1ms postprocess per image at shape (1, 3, 384, 640)\n",
            "\n",
            "0: 384x640 3 buss, 90 cars, 2 trucks, 2323.9ms\n",
            "Speed: 4.0ms preprocess, 2323.9ms inference, 1.0ms postprocess per image at shape (1, 3, 384, 640)\n",
            "\n",
            "0: 384x640 3 buss, 89 cars, 2 trucks, 2335.2ms\n",
            "Speed: 3.5ms preprocess, 2335.2ms inference, 1.0ms postprocess per image at shape (1, 3, 384, 640)\n",
            "\n",
            "0: 384x640 3 buss, 89 cars, 1 truck, 2332.0ms\n",
            "Speed: 3.8ms preprocess, 2332.0ms inference, 1.0ms postprocess per image at shape (1, 3, 384, 640)\n",
            "\n",
            "0: 384x640 3 buss, 89 cars, 1 truck, 2898.8ms\n",
            "Speed: 4.0ms preprocess, 2898.8ms inference, 1.6ms postprocess per image at shape (1, 3, 384, 640)\n",
            "\n",
            "0: 384x640 3 buss, 89 cars, 1 truck, 2882.7ms\n",
            "Speed: 4.3ms preprocess, 2882.7ms inference, 1.0ms postprocess per image at shape (1, 3, 384, 640)\n",
            "\n",
            "0: 384x640 3 buss, 89 cars, 1 truck, 2344.4ms\n",
            "Speed: 3.6ms preprocess, 2344.4ms inference, 1.9ms postprocess per image at shape (1, 3, 384, 640)\n",
            "\n",
            "0: 384x640 3 buss, 89 cars, 1 truck, 2333.6ms\n",
            "Speed: 3.6ms preprocess, 2333.6ms inference, 1.0ms postprocess per image at shape (1, 3, 384, 640)\n",
            "\n",
            "0: 384x640 3 buss, 89 cars, 1 truck, 2384.0ms\n",
            "Speed: 3.8ms preprocess, 2384.0ms inference, 1.0ms postprocess per image at shape (1, 3, 384, 640)\n",
            "\n",
            "0: 384x640 3 buss, 88 cars, 1 truck, 1 van, 3270.1ms\n",
            "Speed: 3.7ms preprocess, 3270.1ms inference, 1.4ms postprocess per image at shape (1, 3, 384, 640)\n",
            "\n",
            "0: 384x640 3 buss, 88 cars, 1 truck, 1 van, 2564.9ms\n",
            "Speed: 4.1ms preprocess, 2564.9ms inference, 1.3ms postprocess per image at shape (1, 3, 384, 640)\n",
            "\n",
            "0: 384x640 3 buss, 88 cars, 1 truck, 1 van, 2374.9ms\n",
            "Speed: 4.2ms preprocess, 2374.9ms inference, 1.1ms postprocess per image at shape (1, 3, 384, 640)\n",
            "\n",
            "0: 384x640 3 buss, 87 cars, 1 truck, 1 van, 2381.7ms\n",
            "Speed: 3.5ms preprocess, 2381.7ms inference, 1.0ms postprocess per image at shape (1, 3, 384, 640)\n",
            "\n",
            "0: 384x640 3 buss, 87 cars, 2 trucks, 1 van, 2361.4ms\n",
            "Speed: 4.9ms preprocess, 2361.4ms inference, 1.1ms postprocess per image at shape (1, 3, 384, 640)\n",
            "\n",
            "0: 384x640 3 buss, 87 cars, 2 trucks, 1 van, 3522.9ms\n",
            "Speed: 3.5ms preprocess, 3522.9ms inference, 1.3ms postprocess per image at shape (1, 3, 384, 640)\n",
            "\n",
            "0: 384x640 3 buss, 86 cars, 2 trucks, 1 van, 2361.3ms\n",
            "Speed: 4.4ms preprocess, 2361.3ms inference, 1.2ms postprocess per image at shape (1, 3, 384, 640)\n",
            "\n",
            "0: 384x640 3 buss, 86 cars, 2 trucks, 1 van, 2331.2ms\n",
            "Speed: 3.9ms preprocess, 2331.2ms inference, 1.3ms postprocess per image at shape (1, 3, 384, 640)\n",
            "\n",
            "0: 384x640 3 buss, 86 cars, 2 trucks, 1 van, 2337.5ms\n",
            "Speed: 3.5ms preprocess, 2337.5ms inference, 1.0ms postprocess per image at shape (1, 3, 384, 640)\n",
            "\n",
            "0: 384x640 3 buss, 86 cars, 2 trucks, 1 van, 2363.5ms\n",
            "Speed: 3.8ms preprocess, 2363.5ms inference, 1.0ms postprocess per image at shape (1, 3, 384, 640)\n",
            "\n",
            "0: 384x640 3 buss, 88 cars, 1 truck, 1 van, 3499.0ms\n",
            "Speed: 7.4ms preprocess, 3499.0ms inference, 1.1ms postprocess per image at shape (1, 3, 384, 640)\n",
            "\n",
            "0: 384x640 3 buss, 87 cars, 2 trucks, 1 van, 2358.1ms\n",
            "Speed: 3.6ms preprocess, 2358.1ms inference, 1.0ms postprocess per image at shape (1, 3, 384, 640)\n",
            "\n",
            "0: 384x640 3 buss, 87 cars, 2 trucks, 1 van, 2348.4ms\n",
            "Speed: 4.0ms preprocess, 2348.4ms inference, 1.1ms postprocess per image at shape (1, 3, 384, 640)\n",
            "\n",
            "0: 384x640 3 buss, 87 cars, 1 truck, 1 van, 2325.2ms\n",
            "Speed: 4.5ms preprocess, 2325.2ms inference, 1.3ms postprocess per image at shape (1, 3, 384, 640)\n",
            "\n",
            "0: 384x640 3 buss, 89 cars, 1 truck, 2553.8ms\n",
            "Speed: 3.7ms preprocess, 2553.8ms inference, 1.7ms postprocess per image at shape (1, 3, 384, 640)\n",
            "\n",
            "0: 384x640 3 buss, 89 cars, 1 truck, 3241.3ms\n",
            "Speed: 3.8ms preprocess, 3241.3ms inference, 1.0ms postprocess per image at shape (1, 3, 384, 640)\n",
            "\n",
            "0: 384x640 3 buss, 88 cars, 2 trucks, 2329.0ms\n",
            "Speed: 3.4ms preprocess, 2329.0ms inference, 1.0ms postprocess per image at shape (1, 3, 384, 640)\n",
            "\n",
            "0: 384x640 4 buss, 88 cars, 1 truck, 2324.5ms\n",
            "Speed: 2.6ms preprocess, 2324.5ms inference, 1.0ms postprocess per image at shape (1, 3, 384, 640)\n",
            "\n",
            "0: 384x640 3 buss, 88 cars, 1 truck, 2310.0ms\n",
            "Speed: 3.8ms preprocess, 2310.0ms inference, 1.0ms postprocess per image at shape (1, 3, 384, 640)\n",
            "\n",
            "0: 384x640 4 buss, 87 cars, 1 truck, 2730.1ms\n",
            "Speed: 3.8ms preprocess, 2730.1ms inference, 1.3ms postprocess per image at shape (1, 3, 384, 640)\n",
            "\n",
            "0: 384x640 4 buss, 88 cars, 1 truck, 3051.4ms\n",
            "Speed: 3.8ms preprocess, 3051.4ms inference, 1.3ms postprocess per image at shape (1, 3, 384, 640)\n",
            "\n",
            "0: 384x640 4 buss, 88 cars, 1 truck, 2315.2ms\n",
            "Speed: 3.4ms preprocess, 2315.2ms inference, 1.0ms postprocess per image at shape (1, 3, 384, 640)\n",
            "\n",
            "0: 384x640 4 buss, 88 cars, 1 truck, 2309.5ms\n",
            "Speed: 4.2ms preprocess, 2309.5ms inference, 1.0ms postprocess per image at shape (1, 3, 384, 640)\n",
            "\n",
            "0: 384x640 4 buss, 88 cars, 1 truck, 2362.4ms\n",
            "Speed: 3.3ms preprocess, 2362.4ms inference, 1.2ms postprocess per image at shape (1, 3, 384, 640)\n",
            "\n",
            "0: 384x640 4 buss, 87 cars, 2 trucks, 2982.4ms\n",
            "Speed: 3.6ms preprocess, 2982.4ms inference, 1.5ms postprocess per image at shape (1, 3, 384, 640)\n",
            "\n",
            "0: 384x640 3 buss, 87 cars, 2 trucks, 2780.2ms\n",
            "Speed: 3.7ms preprocess, 2780.2ms inference, 1.0ms postprocess per image at shape (1, 3, 384, 640)\n",
            "\n",
            "0: 384x640 3 buss, 87 cars, 2 trucks, 2301.1ms\n",
            "Speed: 3.3ms preprocess, 2301.1ms inference, 1.1ms postprocess per image at shape (1, 3, 384, 640)\n",
            "\n",
            "0: 384x640 4 buss, 86 cars, 2 trucks, 2345.7ms\n",
            "Speed: 3.4ms preprocess, 2345.7ms inference, 1.1ms postprocess per image at shape (1, 3, 384, 640)\n",
            "\n",
            "0: 384x640 3 buss, 86 cars, 2 trucks, 2322.6ms\n",
            "Speed: 4.3ms preprocess, 2322.6ms inference, 1.2ms postprocess per image at shape (1, 3, 384, 640)\n",
            "\n",
            "0: 384x640 3 buss, 86 cars, 2 trucks, 3216.8ms\n",
            "Speed: 3.4ms preprocess, 3216.8ms inference, 1.8ms postprocess per image at shape (1, 3, 384, 640)\n",
            "\n",
            "0: 384x640 3 buss, 86 cars, 2 trucks, 2565.2ms\n",
            "Speed: 4.2ms preprocess, 2565.2ms inference, 1.0ms postprocess per image at shape (1, 3, 384, 640)\n",
            "\n",
            "0: 384x640 4 buss, 84 cars, 2 trucks, 1 van, 2307.5ms\n",
            "Speed: 3.7ms preprocess, 2307.5ms inference, 1.3ms postprocess per image at shape (1, 3, 384, 640)\n",
            "\n",
            "0: 384x640 4 buss, 85 cars, 1 truck, 1 van, 2333.1ms\n",
            "Speed: 3.5ms preprocess, 2333.1ms inference, 1.0ms postprocess per image at shape (1, 3, 384, 640)\n",
            "\n",
            "0: 384x640 3 buss, 85 cars, 2 trucks, 2 vans, 2336.9ms\n",
            "Speed: 2.5ms preprocess, 2336.9ms inference, 1.0ms postprocess per image at shape (1, 3, 384, 640)\n",
            "\n",
            "0: 384x640 3 buss, 86 cars, 1 truck, 2 vans, 3529.1ms\n",
            "Speed: 3.4ms preprocess, 3529.1ms inference, 1.9ms postprocess per image at shape (1, 3, 384, 640)\n",
            "\n",
            "0: 384x640 3 buss, 85 cars, 2 trucks, 2 vans, 2318.4ms\n",
            "Speed: 3.5ms preprocess, 2318.4ms inference, 1.3ms postprocess per image at shape (1, 3, 384, 640)\n",
            "\n",
            "0: 384x640 3 buss, 85 cars, 2 trucks, 2 vans, 2334.7ms\n",
            "Speed: 3.3ms preprocess, 2334.7ms inference, 1.0ms postprocess per image at shape (1, 3, 384, 640)\n",
            "\n",
            "0: 384x640 3 buss, 85 cars, 2 trucks, 2 vans, 2369.6ms\n",
            "Speed: 3.7ms preprocess, 2369.6ms inference, 1.0ms postprocess per image at shape (1, 3, 384, 640)\n",
            "\n",
            "0: 384x640 3 buss, 87 cars, 1 truck, 1 van, 2328.3ms\n",
            "Speed: 3.5ms preprocess, 2328.3ms inference, 1.0ms postprocess per image at shape (1, 3, 384, 640)\n",
            "\n",
            "0: 384x640 3 buss, 87 cars, 1 truck, 1 van, 3454.5ms\n",
            "Speed: 3.4ms preprocess, 3454.5ms inference, 1.0ms postprocess per image at shape (1, 3, 384, 640)\n",
            "\n",
            "0: 384x640 3 buss, 86 cars, 2 trucks, 1 van, 2368.7ms\n",
            "Speed: 3.5ms preprocess, 2368.7ms inference, 1.0ms postprocess per image at shape (1, 3, 384, 640)\n",
            "\n",
            "0: 384x640 3 buss, 86 cars, 2 trucks, 1 van, 2355.5ms\n",
            "Speed: 4.5ms preprocess, 2355.5ms inference, 1.2ms postprocess per image at shape (1, 3, 384, 640)\n",
            "\n",
            "0: 384x640 3 buss, 86 cars, 1 truck, 2 vans, 2328.6ms\n",
            "Speed: 3.0ms preprocess, 2328.6ms inference, 1.4ms postprocess per image at shape (1, 3, 384, 640)\n",
            "\n",
            "0: 384x640 3 buss, 86 cars, 1 truck, 2 vans, 2520.1ms\n",
            "Speed: 4.2ms preprocess, 2520.1ms inference, 1.4ms postprocess per image at shape (1, 3, 384, 640)\n",
            "\n",
            "0: 384x640 3 buss, 86 cars, 1 truck, 2 vans, 3282.1ms\n",
            "Speed: 7.5ms preprocess, 3282.1ms inference, 1.0ms postprocess per image at shape (1, 3, 384, 640)\n",
            "\n",
            "0: 384x640 3 buss, 86 cars, 1 truck, 2 vans, 2393.2ms\n",
            "Speed: 2.6ms preprocess, 2393.2ms inference, 1.0ms postprocess per image at shape (1, 3, 384, 640)\n",
            "\n",
            "0: 384x640 3 buss, 86 cars, 1 truck, 2 vans, 2341.3ms\n",
            "Speed: 3.4ms preprocess, 2341.3ms inference, 1.0ms postprocess per image at shape (1, 3, 384, 640)\n",
            "\n",
            "0: 384x640 3 buss, 86 cars, 1 truck, 2 vans, 2365.1ms\n",
            "Speed: 4.4ms preprocess, 2365.1ms inference, 1.8ms postprocess per image at shape (1, 3, 384, 640)\n",
            "\n",
            "0: 384x640 3 buss, 86 cars, 1 truck, 2 vans, 2879.5ms\n",
            "Speed: 3.5ms preprocess, 2879.5ms inference, 1.4ms postprocess per image at shape (1, 3, 384, 640)\n",
            "\n",
            "0: 384x640 4 buss, 86 cars, 1 truck, 1 van, 2935.6ms\n",
            "Speed: 3.9ms preprocess, 2935.6ms inference, 1.2ms postprocess per image at shape (1, 3, 384, 640)\n",
            "\n",
            "0: 384x640 3 buss, 86 cars, 1 truck, 2 vans, 2359.3ms\n",
            "Speed: 3.5ms preprocess, 2359.3ms inference, 1.1ms postprocess per image at shape (1, 3, 384, 640)\n",
            "\n",
            "0: 384x640 3 buss, 86 cars, 1 truck, 2 vans, 2345.0ms\n",
            "Speed: 3.5ms preprocess, 2345.0ms inference, 1.1ms postprocess per image at shape (1, 3, 384, 640)\n",
            "\n",
            "0: 384x640 3 buss, 86 cars, 1 truck, 2 vans, 2380.0ms\n",
            "Speed: 2.6ms preprocess, 2380.0ms inference, 1.1ms postprocess per image at shape (1, 3, 384, 640)\n",
            "\n",
            "0: 384x640 3 buss, 86 cars, 1 truck, 2 vans, 3246.9ms\n",
            "Speed: 4.1ms preprocess, 3246.9ms inference, 1.4ms postprocess per image at shape (1, 3, 384, 640)\n",
            "\n",
            "0: 384x640 4 buss, 85 cars, 1 truck, 2 vans, 2546.9ms\n",
            "Speed: 6.5ms preprocess, 2546.9ms inference, 1.3ms postprocess per image at shape (1, 3, 384, 640)\n",
            "\n",
            "0: 384x640 4 buss, 85 cars, 1 truck, 2 vans, 2378.3ms\n",
            "Speed: 3.5ms preprocess, 2378.3ms inference, 1.0ms postprocess per image at shape (1, 3, 384, 640)\n",
            "\n",
            "0: 384x640 4 buss, 84 cars, 1 truck, 2 vans, 2370.2ms\n",
            "Speed: 3.5ms preprocess, 2370.2ms inference, 1.0ms postprocess per image at shape (1, 3, 384, 640)\n",
            "\n",
            "0: 384x640 4 buss, 84 cars, 1 truck, 2 vans, 2379.8ms\n",
            "Speed: 2.9ms preprocess, 2379.8ms inference, 1.3ms postprocess per image at shape (1, 3, 384, 640)\n",
            "\n",
            "0: 384x640 4 buss, 84 cars, 1 truck, 2 vans, 3514.2ms\n",
            "Speed: 3.6ms preprocess, 3514.2ms inference, 1.6ms postprocess per image at shape (1, 3, 384, 640)\n",
            "\n",
            "0: 384x640 3 buss, 85 cars, 1 truck, 2 vans, 2361.3ms\n",
            "Speed: 3.4ms preprocess, 2361.3ms inference, 1.0ms postprocess per image at shape (1, 3, 384, 640)\n",
            "\n",
            "0: 384x640 3 buss, 85 cars, 1 truck, 1 van, 2344.9ms\n",
            "Speed: 4.1ms preprocess, 2344.9ms inference, 1.0ms postprocess per image at shape (1, 3, 384, 640)\n",
            "\n",
            "0: 384x640 3 buss, 84 cars, 1 truck, 2 vans, 2334.4ms\n",
            "Speed: 3.4ms preprocess, 2334.4ms inference, 1.2ms postprocess per image at shape (1, 3, 384, 640)\n",
            "\n",
            "0: 384x640 3 buss, 84 cars, 1 truck, 2 vans, 2394.3ms\n",
            "Speed: 3.7ms preprocess, 2394.3ms inference, 1.6ms postprocess per image at shape (1, 3, 384, 640)\n",
            "\n",
            "0: 384x640 4 buss, 83 cars, 1 truck, 2 vans, 3409.2ms\n",
            "Speed: 3.7ms preprocess, 3409.2ms inference, 1.0ms postprocess per image at shape (1, 3, 384, 640)\n",
            "\n",
            "0: 384x640 4 buss, 83 cars, 1 truck, 2 vans, 2335.5ms\n",
            "Speed: 2.7ms preprocess, 2335.5ms inference, 1.3ms postprocess per image at shape (1, 3, 384, 640)\n",
            "\n",
            "0: 384x640 4 buss, 83 cars, 1 truck, 2 vans, 2363.9ms\n",
            "Speed: 3.3ms preprocess, 2363.9ms inference, 1.0ms postprocess per image at shape (1, 3, 384, 640)\n",
            "\n",
            "0: 384x640 4 buss, 83 cars, 1 truck, 2 vans, 2344.0ms\n",
            "Speed: 3.8ms preprocess, 2344.0ms inference, 1.1ms postprocess per image at shape (1, 3, 384, 640)\n",
            "\n",
            "0: 384x640 4 buss, 82 cars, 1 truck, 2 vans, 2635.4ms\n",
            "Speed: 4.8ms preprocess, 2635.4ms inference, 1.4ms postprocess per image at shape (1, 3, 384, 640)\n",
            "\n",
            "0: 384x640 4 buss, 82 cars, 1 truck, 2 vans, 3205.6ms\n",
            "Speed: 3.6ms preprocess, 3205.6ms inference, 1.0ms postprocess per image at shape (1, 3, 384, 640)\n",
            "\n",
            "0: 384x640 4 buss, 83 cars, 1 truck, 1 van, 2335.0ms\n",
            "Speed: 4.2ms preprocess, 2335.0ms inference, 1.5ms postprocess per image at shape (1, 3, 384, 640)\n",
            "\n",
            "0: 384x640 4 buss, 82 cars, 1 truck, 2 vans, 2339.7ms\n",
            "Speed: 3.4ms preprocess, 2339.7ms inference, 1.1ms postprocess per image at shape (1, 3, 384, 640)\n",
            "\n",
            "0: 384x640 4 buss, 83 cars, 1 truck, 2 vans, 2346.2ms\n",
            "Speed: 4.0ms preprocess, 2346.2ms inference, 1.0ms postprocess per image at shape (1, 3, 384, 640)\n",
            "\n",
            "0: 384x640 4 buss, 83 cars, 1 truck, 2 vans, 2909.0ms\n",
            "Speed: 4.2ms preprocess, 2909.0ms inference, 1.6ms postprocess per image at shape (1, 3, 384, 640)\n",
            "\n",
            "0: 384x640 4 buss, 84 cars, 1 truck, 1 van, 2870.7ms\n",
            "Speed: 3.9ms preprocess, 2870.7ms inference, 1.0ms postprocess per image at shape (1, 3, 384, 640)\n",
            "\n",
            "0: 384x640 4 buss, 84 cars, 1 truck, 1 van, 2353.0ms\n",
            "Speed: 4.1ms preprocess, 2353.0ms inference, 1.2ms postprocess per image at shape (1, 3, 384, 640)\n",
            "\n",
            "0: 384x640 4 buss, 84 cars, 1 truck, 1 van, 2323.2ms\n",
            "Speed: 3.5ms preprocess, 2323.2ms inference, 1.0ms postprocess per image at shape (1, 3, 384, 640)\n",
            "\n",
            "0: 384x640 4 buss, 85 cars, 1 truck, 1 van, 2325.1ms\n",
            "Speed: 4.0ms preprocess, 2325.1ms inference, 1.0ms postprocess per image at shape (1, 3, 384, 640)\n",
            "\n",
            "0: 384x640 4 buss, 85 cars, 1 truck, 1 van, 3248.6ms\n",
            "Speed: 2.6ms preprocess, 3248.6ms inference, 1.5ms postprocess per image at shape (1, 3, 384, 640)\n",
            "\n",
            "0: 384x640 4 buss, 84 cars, 1 truck, 2 vans, 2481.3ms\n",
            "Speed: 9.9ms preprocess, 2481.3ms inference, 1.0ms postprocess per image at shape (1, 3, 384, 640)\n",
            "\n",
            "0: 384x640 4 buss, 84 cars, 1 truck, 2 vans, 2350.3ms\n",
            "Speed: 3.7ms preprocess, 2350.3ms inference, 1.0ms postprocess per image at shape (1, 3, 384, 640)\n",
            "\n",
            "0: 384x640 4 buss, 84 cars, 1 truck, 2 vans, 2366.6ms\n",
            "Speed: 3.4ms preprocess, 2366.6ms inference, 1.0ms postprocess per image at shape (1, 3, 384, 640)\n",
            "\n",
            "0: 384x640 4 buss, 84 cars, 1 truck, 2 vans, 2376.7ms\n",
            "Speed: 3.5ms preprocess, 2376.7ms inference, 1.0ms postprocess per image at shape (1, 3, 384, 640)\n",
            "\n",
            "0: 384x640 4 buss, 84 cars, 1 truck, 2 vans, 3539.6ms\n",
            "Speed: 3.5ms preprocess, 3539.6ms inference, 1.1ms postprocess per image at shape (1, 3, 384, 640)\n",
            "\n",
            "0: 384x640 4 buss, 84 cars, 1 truck, 2 vans, 2331.4ms\n",
            "Speed: 4.3ms preprocess, 2331.4ms inference, 1.0ms postprocess per image at shape (1, 3, 384, 640)\n",
            "\n",
            "0: 384x640 4 buss, 84 cars, 1 truck, 2 vans, 2361.2ms\n",
            "Speed: 3.6ms preprocess, 2361.2ms inference, 1.0ms postprocess per image at shape (1, 3, 384, 640)\n",
            "\n",
            "0: 384x640 4 buss, 84 cars, 1 truck, 2 vans, 2364.1ms\n",
            "Speed: 4.0ms preprocess, 2364.1ms inference, 1.1ms postprocess per image at shape (1, 3, 384, 640)\n",
            "\n",
            "0: 384x640 4 buss, 84 cars, 1 truck, 2 vans, 2326.5ms\n",
            "Speed: 3.6ms preprocess, 2326.5ms inference, 1.6ms postprocess per image at shape (1, 3, 384, 640)\n",
            "\n",
            "0: 384x640 4 buss, 84 cars, 1 truck, 2 vans, 3441.6ms\n",
            "Speed: 3.6ms preprocess, 3441.6ms inference, 1.1ms postprocess per image at shape (1, 3, 384, 640)\n",
            "\n",
            "0: 384x640 4 buss, 84 cars, 1 truck, 2 vans, 2343.1ms\n",
            "Speed: 3.7ms preprocess, 2343.1ms inference, 1.0ms postprocess per image at shape (1, 3, 384, 640)\n",
            "\n",
            "0: 384x640 4 buss, 84 cars, 1 truck, 2 vans, 2345.2ms\n",
            "Speed: 4.1ms preprocess, 2345.2ms inference, 1.3ms postprocess per image at shape (1, 3, 384, 640)\n",
            "\n",
            "0: 384x640 4 buss, 84 cars, 1 truck, 2 vans, 2391.9ms\n",
            "Speed: 3.8ms preprocess, 2391.9ms inference, 1.3ms postprocess per image at shape (1, 3, 384, 640)\n",
            "\n",
            "0: 384x640 4 buss, 84 cars, 1 truck, 2 vans, 2668.6ms\n",
            "Speed: 3.5ms preprocess, 2668.6ms inference, 1.5ms postprocess per image at shape (1, 3, 384, 640)\n",
            "\n",
            "0: 384x640 4 buss, 83 cars, 1 truck, 2 vans, 3142.6ms\n",
            "Speed: 3.6ms preprocess, 3142.6ms inference, 1.0ms postprocess per image at shape (1, 3, 384, 640)\n",
            "\n",
            "0: 384x640 4 buss, 83 cars, 1 truck, 2 vans, 2331.7ms\n",
            "Speed: 3.1ms preprocess, 2331.7ms inference, 1.0ms postprocess per image at shape (1, 3, 384, 640)\n",
            "\n",
            "0: 384x640 4 buss, 83 cars, 1 truck, 2 vans, 2334.0ms\n",
            "Speed: 3.7ms preprocess, 2334.0ms inference, 1.0ms postprocess per image at shape (1, 3, 384, 640)\n",
            "\n",
            "0: 384x640 4 buss, 83 cars, 1 truck, 2 vans, 2330.6ms\n",
            "Speed: 5.6ms preprocess, 2330.6ms inference, 1.0ms postprocess per image at shape (1, 3, 384, 640)\n",
            "\n",
            "0: 384x640 4 buss, 83 cars, 1 truck, 2 vans, 2856.2ms\n",
            "Speed: 3.5ms preprocess, 2856.2ms inference, 2.6ms postprocess per image at shape (1, 3, 384, 640)\n",
            "\n",
            "0: 384x640 4 buss, 83 cars, 1 truck, 2 vans, 2906.1ms\n",
            "Speed: 3.6ms preprocess, 2906.1ms inference, 1.2ms postprocess per image at shape (1, 3, 384, 640)\n",
            "\n",
            "0: 384x640 4 buss, 83 cars, 1 truck, 3 vans, 2334.4ms\n",
            "Speed: 3.5ms preprocess, 2334.4ms inference, 1.0ms postprocess per image at shape (1, 3, 384, 640)\n",
            "\n",
            "0: 384x640 4 buss, 83 cars, 1 truck, 3 vans, 2322.9ms\n",
            "Speed: 4.0ms preprocess, 2322.9ms inference, 1.1ms postprocess per image at shape (1, 3, 384, 640)\n",
            "\n",
            "0: 384x640 4 buss, 85 cars, 1 truck, 2 vans, 2340.4ms\n",
            "Speed: 3.4ms preprocess, 2340.4ms inference, 1.1ms postprocess per image at shape (1, 3, 384, 640)\n",
            "\n",
            "0: 384x640 4 buss, 84 cars, 2 trucks, 2 vans, 3137.6ms\n",
            "Speed: 3.7ms preprocess, 3137.6ms inference, 1.5ms postprocess per image at shape (1, 3, 384, 640)\n",
            "\n",
            "0: 384x640 4 buss, 85 cars, 1 truck, 2 vans, 2568.2ms\n",
            "Speed: 6.5ms preprocess, 2568.2ms inference, 1.3ms postprocess per image at shape (1, 3, 384, 640)\n",
            "\n",
            "0: 384x640 4 buss, 84 cars, 2 trucks, 2 vans, 2320.4ms\n",
            "Speed: 3.5ms preprocess, 2320.4ms inference, 1.0ms postprocess per image at shape (1, 3, 384, 640)\n",
            "\n",
            "0: 384x640 4 buss, 84 cars, 2 trucks, 2 vans, 2328.7ms\n",
            "Speed: 3.4ms preprocess, 2328.7ms inference, 1.1ms postprocess per image at shape (1, 3, 384, 640)\n",
            "\n",
            "0: 384x640 4 buss, 84 cars, 2 trucks, 2 vans, 2350.4ms\n",
            "Speed: 3.4ms preprocess, 2350.4ms inference, 1.3ms postprocess per image at shape (1, 3, 384, 640)\n",
            "\n",
            "0: 384x640 4 buss, 83 cars, 2 trucks, 3 vans, 3363.9ms\n",
            "Speed: 3.4ms preprocess, 3363.9ms inference, 1.7ms postprocess per image at shape (1, 3, 384, 640)\n",
            "\n",
            "0: 384x640 4 buss, 83 cars, 2 trucks, 3 vans, 2396.0ms\n",
            "Speed: 4.8ms preprocess, 2396.0ms inference, 1.0ms postprocess per image at shape (1, 3, 384, 640)\n",
            "\n",
            "0: 384x640 4 buss, 84 cars, 1 truck, 3 vans, 2316.1ms\n",
            "Speed: 3.9ms preprocess, 2316.1ms inference, 1.0ms postprocess per image at shape (1, 3, 384, 640)\n",
            "\n",
            "0: 384x640 4 buss, 84 cars, 1 truck, 3 vans, 2297.2ms\n",
            "Speed: 3.2ms preprocess, 2297.2ms inference, 1.0ms postprocess per image at shape (1, 3, 384, 640)\n",
            "\n",
            "0: 384x640 4 buss, 84 cars, 1 truck, 3 vans, 2311.2ms\n",
            "Speed: 4.3ms preprocess, 2311.2ms inference, 1.0ms postprocess per image at shape (1, 3, 384, 640)\n",
            "\n",
            "0: 384x640 4 buss, 84 cars, 1 truck, 3 vans, 3523.5ms\n",
            "Speed: 4.1ms preprocess, 3523.5ms inference, 1.1ms postprocess per image at shape (1, 3, 384, 640)\n",
            "Video frame is empty or video processing has been successfully completed.\n"
          ]
        }
      ]
    },
    {
      "cell_type": "code",
      "source": [
        "cap.release()\n",
        "video_writer.release()\n",
        "cv2.destroyAllWindows()"
      ],
      "metadata": {
        "id": "1SsAYAApQ_8O"
      },
      "id": "1SsAYAApQ_8O",
      "execution_count": null,
      "outputs": []
    },
    {
      "cell_type": "markdown",
      "id": "71d3083e",
      "metadata": {
        "id": "71d3083e"
      },
      "source": [
        "## Save and Submit Your Work"
      ]
    },
    {
      "cell_type": "markdown",
      "id": "ae5e33ac",
      "metadata": {
        "id": "ae5e33ac"
      },
      "source": [
        "Submit both the notebook and the output video"
      ]
    }
  ],
  "metadata": {
    "language_info": {
      "name": "python"
    },
    "colab": {
      "provenance": [],
      "include_colab_link": true
    },
    "kernelspec": {
      "name": "python3",
      "display_name": "Python 3"
    }
  },
  "nbformat": 4,
  "nbformat_minor": 5
}